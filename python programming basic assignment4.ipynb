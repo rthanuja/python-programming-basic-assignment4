{
 "cells": [
  {
   "cell_type": "code",
   "execution_count": 1,
   "id": "96149723",
   "metadata": {},
   "outputs": [
    {
     "name": "stdout",
     "output_type": "stream",
     "text": [
      "enter a number 10\n",
      "the factorial of 10 is 3628800\n"
     ]
    }
   ],
   "source": [
    "#1. Write a Python Program to Find the Factorial of a Number?\n",
    "a=int(input(\"enter a number \"))\n",
    "b=1\n",
    "for i in range(1,a+1):\n",
    "    b=b*i\n",
    "print(\"the factorial of {} is {}\".format(a,b))\n"
   ]
  },
  {
   "cell_type": "code",
   "execution_count": 2,
   "id": "693ee9e5",
   "metadata": {},
   "outputs": [
    {
     "name": "stdout",
     "output_type": "stream",
     "text": [
      "12\n",
      "12x1=12\n",
      "12x2=24\n",
      "12x3=36\n",
      "12x4=48\n",
      "12x5=60\n",
      "12x6=72\n",
      "12x7=84\n",
      "12x8=96\n",
      "12x9=108\n",
      "12x10=120\n"
     ]
    }
   ],
   "source": [
    "#2. Write a Python Program to Display the multiplication Table?\n",
    "a=int(input())\n",
    "for i in range(1,11):\n",
    "    b=a*i\n",
    "    print(\"{}x{}={}\".format(a,i,b))"
   ]
  },
  {
   "cell_type": "code",
   "execution_count": 6,
   "id": "e4f763ef",
   "metadata": {},
   "outputs": [
    {
     "name": "stdout",
     "output_type": "stream",
     "text": [
      "enter no of terms required in fibonacci 10\n",
      "0 1 1 2 3 5 8 13 21 34 "
     ]
    }
   ],
   "source": [
    "#3. Write a Python Program to Print the Fibonacci sequence?\n",
    "a=0\n",
    "b=1\n",
    "n=int(input(\"enter no of terms required in fibonacci \"))\n",
    "print(a,b,end=\" \")\n",
    "for i in range(n-2):\n",
    "    c=a+b\n",
    "    a=b\n",
    "    b=c\n",
    "    print(c,end=' ')\n",
    "    "
   ]
  },
  {
   "cell_type": "code",
   "execution_count": 7,
   "id": "7b2a9e65",
   "metadata": {},
   "outputs": [
    {
     "name": "stdout",
     "output_type": "stream",
     "text": [
      "enter the number 153\n",
      "153 is an armstrong number\n"
     ]
    }
   ],
   "source": [
    "#4. Write a Python Program to Check Armstrong Number?\n",
    "n=int(input(\"enter the number \"))\n",
    "a=len(str(n))\n",
    "b=0\n",
    "for i in str(n):\n",
    "    b+=int(i)**a\n",
    "if b==n:\n",
    "    print(\"{} is an armstrong number\".format(n))\n",
    "else:\n",
    "    print(\"{} is not an armstrong number\".format(n))\n"
   ]
  },
  {
   "cell_type": "code",
   "execution_count": 8,
   "id": "14b2b6f0",
   "metadata": {},
   "outputs": [
    {
     "name": "stdout",
     "output_type": "stream",
     "text": [
      "enter the start of range 1\n",
      "enter the end of range 9999\n",
      "1 2 3 4 5 6 7 8 9 153 370 371 407 1634 8208 9474 "
     ]
    }
   ],
   "source": [
    "#5. Write a Python Program to Find Armstrong Number in an Interval?\n",
    "a=int(input(\"enter the start of range \"))\n",
    "b=int(input(\"enter the end of range \"))\n",
    "for i in range(a,b+1):\n",
    "    b=0\n",
    "    l=len(str(i))\n",
    "    for j in str(i):\n",
    "        b+=int(j)**l\n",
    "    if b==i:\n",
    "        print(i,end=\" \")   "
   ]
  },
  {
   "cell_type": "code",
   "execution_count": 9,
   "id": "4c46c6cb",
   "metadata": {},
   "outputs": [
    {
     "name": "stdout",
     "output_type": "stream",
     "text": [
      "enter the number 10\n",
      "55.0\n"
     ]
    }
   ],
   "source": [
    "#6. Write a Python Program to Find the Sum of Natural Numbers?\n",
    "n=int(input(\"enter the number \"))\n",
    "s=(n*(n+1))/2\n",
    "print(s)"
   ]
  }
 ],
 "metadata": {
  "kernelspec": {
   "display_name": "Python 3 (ipykernel)",
   "language": "python",
   "name": "python3"
  },
  "language_info": {
   "codemirror_mode": {
    "name": "ipython",
    "version": 3
   },
   "file_extension": ".py",
   "mimetype": "text/x-python",
   "name": "python",
   "nbconvert_exporter": "python",
   "pygments_lexer": "ipython3",
   "version": "3.10.9"
  }
 },
 "nbformat": 4,
 "nbformat_minor": 5
}
